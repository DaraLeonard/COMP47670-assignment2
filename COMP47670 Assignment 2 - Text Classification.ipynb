{
 "cells": [
  {
   "cell_type": "markdown",
   "source": [
    "# COMP47670 Assignment 2 - Text Classification\n",
    "\n",
    "#### Student Name: Dara Leonard\n",
    "#### Student ID: 19202478"
   ],
   "metadata": {
    "collapsed": false
   }
  },
  {
   "cell_type": "code",
   "execution_count": 117,
   "outputs": [],
   "source": [
    "import requests\n",
    "from bs4 import BeautifulSoup\n",
    "import json\n",
    "import pandas as pd"
   ],
   "metadata": {
    "collapsed": false,
    "pycharm": {
     "name": "#%%\n",
     "is_executing": false
    }
   }
  },
  {
   "cell_type": "markdown",
   "source": [
    "#### Task 1: Scrape all reviews for each category and store them as three separate datasets\n",
    "For Task 1 I have chosen the Automotive, Cafes, Fashion categories as my data sources.\n"
   ],
   "metadata": {
    "collapsed": false
   }
  },
  {
   "cell_type": "code",
   "execution_count": 118,
   "outputs": [],
   "source": [
    "data_source = 'http://mlg.ucd.ie/modules/yalp/'\n",
    "business_categories = ['automotive_list.html', 'cafes_list.html', 'fashion_list.html']\n",
    "\n",
    "def extract_category_data(url):\n",
    "    response = requests.get(url)\n",
    "    data = response.text\n",
    "    return BeautifulSoup(data,'html.parser')\n",
    "\n",
    "\n",
    "def categorise_rating(review_stars):\n",
    "    return 'positive' if int(review_stars.get('alt').split('-')[0]) >= 4 else 'negative'\n",
    "\n",
    "\n",
    "def extract_reviews(url):\n",
    "    soup = extract_category_data(url)\n",
    "    reviews_block = soup.findAll(\"div\", { \"class\" : \"review\" })\n",
    "    review_list =[]\n",
    "    review_info_columns = ['comment', 'rating']\n",
    "    review_df = pd.DataFrame(columns=review_info_columns)\n",
    "\n",
    "    for i, reviews in enumerate(reviews_block):\n",
    "        review = {}\n",
    "        review_stars = reviews.find('img')\n",
    "        review[\"comments\"] = reviews.find(\"p\", { \"class\" : \"review-text\" }).get_text()\n",
    "        review[\"rating\"] = categorise_rating(review_stars)\n",
    "        review_list.append(review)        \n",
    "        \n",
    "        review_tmp = dict({\n",
    "            'comment': reviews.find(\"p\", { \"class\" : \"review-text\" }).get_text(),\n",
    "            'rating' : categorise_rating(review_stars)\n",
    "        })\n",
    "        review_df.loc[i] = review_tmp\n",
    "\n",
    "    return review_list, review_df\n",
    "\n",
    "\n",
    "def extract_data(url):\n",
    "    soup = extract_category_data(url)\n",
    "    links = soup.find_all('a')\n",
    "    review_list =[]\n",
    "    for link in links:\n",
    "        url = data_source + link.get('href')\n",
    "        review, review_df = extract_reviews(url)\n",
    "        review_list.append(review_df)\n",
    "    return pd.concat(review_list)\n",
    "\n",
    "\n",
    "url = data_source + business_categories[0]\n",
    "\n",
    "consolidated_automotive_reviews_df = extract_data(url)\n",
    "consolidated_automotive_reviews_df.to_json('automotive.json', orient='records')"
   ],
   "metadata": {
    "collapsed": false,
    "pycharm": {
     "name": "#%%\n",
     "is_executing": false
    }
   }
  },
  {
   "cell_type": "code",
   "execution_count": 119,
   "outputs": [
    {
     "data": {
      "text/plain": "                                             comment    rating\n0  The man that was working tonight (8-12-17) was...  negative\n1  Chris is a very rude person. Gave me an attitu...  negative\n2  One of my favorite gas station to stop at. The...  positive\n3  Oh thank Heaven for Seven Eleven! I don't know...  negative\n4  Five stars because of the guy who works weekda...  positive",
      "text/html": "<div>\n<style scoped>\n    .dataframe tbody tr th:only-of-type {\n        vertical-align: middle;\n    }\n\n    .dataframe tbody tr th {\n        vertical-align: top;\n    }\n\n    .dataframe thead th {\n        text-align: right;\n    }\n</style>\n<table border=\"1\" class=\"dataframe\">\n  <thead>\n    <tr style=\"text-align: right;\">\n      <th></th>\n      <th>comment</th>\n      <th>rating</th>\n    </tr>\n  </thead>\n  <tbody>\n    <tr>\n      <th>0</th>\n      <td>The man that was working tonight (8-12-17) was...</td>\n      <td>negative</td>\n    </tr>\n    <tr>\n      <th>1</th>\n      <td>Chris is a very rude person. Gave me an attitu...</td>\n      <td>negative</td>\n    </tr>\n    <tr>\n      <th>2</th>\n      <td>One of my favorite gas station to stop at. The...</td>\n      <td>positive</td>\n    </tr>\n    <tr>\n      <th>3</th>\n      <td>Oh thank Heaven for Seven Eleven! I don't know...</td>\n      <td>negative</td>\n    </tr>\n    <tr>\n      <th>4</th>\n      <td>Five stars because of the guy who works weekda...</td>\n      <td>positive</td>\n    </tr>\n  </tbody>\n</table>\n</div>"
     },
     "metadata": {},
     "output_type": "execute_result",
     "execution_count": 119
    }
   ],
   "source": [
    "consolidated_automotive_reviews_df.head()"
   ],
   "metadata": {
    "collapsed": false,
    "pycharm": {
     "name": "#%%\n",
     "is_executing": false
    }
   }
  },
  {
   "cell_type": "code",
   "execution_count": 120,
   "outputs": [
    {
     "data": {
      "text/plain": "comment    0\nrating     0\ndtype: int64"
     },
     "metadata": {},
     "output_type": "execute_result",
     "execution_count": 120
    }
   ],
   "source": [
    "consolidated_automotive_reviews_df.isnull().sum()"
   ],
   "metadata": {
    "collapsed": false,
    "pycharm": {
     "name": "#%%\n",
     "is_executing": false
    }
   }
  },
  {
   "cell_type": "code",
   "execution_count": 121,
   "outputs": [
    {
     "data": {
      "text/plain": "(2000, 2)"
     },
     "metadata": {},
     "output_type": "execute_result",
     "execution_count": 121
    }
   ],
   "source": [
    "consolidated_automotive_reviews_df.shape"
   ],
   "metadata": {
    "collapsed": false,
    "pycharm": {
     "name": "#%%\n",
     "is_executing": false
    }
   }
  },
  {
   "cell_type": "code",
   "execution_count": 122,
   "outputs": [
    {
     "data": {
      "text/plain": "rating\nnegative     788\npositive    1212\nName: rating, dtype: int64"
     },
     "metadata": {},
     "output_type": "execute_result",
     "execution_count": 122
    }
   ],
   "source": [
    "consolidated_automotive_reviews_df.groupby('rating')['rating'].count()"
   ],
   "metadata": {
    "collapsed": false,
    "pycharm": {
     "name": "#%%\n",
     "is_executing": false
    }
   }
  },
  {
   "cell_type": "markdown",
   "source": [
    "#### Task 2: For each of the chose categories; apply any necessary pre-processing, build a classification model & test said classification model"
   ],
   "metadata": {
    "collapsed": false,
    "pycharm": {
     "name": "#%% md\n"
    }
   }
  },
  {
   "cell_type": "code",
   "execution_count": null,
   "outputs": [],
   "source": [],
   "metadata": {
    "collapsed": false,
    "pycharm": {
     "name": "#%%\n"
    }
   }
  },
  {
   "cell_type": "code",
   "execution_count": null,
   "outputs": [],
   "source": [],
   "metadata": {
    "collapsed": false,
    "pycharm": {
     "name": "#%%\n"
    }
   }
  },
  {
   "cell_type": "code",
   "execution_count": null,
   "outputs": [],
   "source": [],
   "metadata": {
    "collapsed": false,
    "pycharm": {
     "name": "#%%\n"
    }
   }
  },
  {
   "cell_type": "code",
   "execution_count": 123,
   "outputs": [
    {
     "name": "stdout",
     "text": [
      "Done\n"
     ],
     "output_type": "stream"
    }
   ],
   "source": [
    "print('Done')"
   ],
   "metadata": {
    "collapsed": false,
    "pycharm": {
     "name": "#%%\n",
     "is_executing": false
    }
   }
  }
 ],
 "metadata": {
  "kernelspec": {
   "display_name": "Python 3",
   "language": "python",
   "name": "python3"
  },
  "language_info": {
   "codemirror_mode": {
    "name": "ipython",
    "version": 3
   },
   "file_extension": ".py",
   "mimetype": "text/x-python",
   "name": "python",
   "nbconvert_exporter": "python",
   "pygments_lexer": "ipython3",
   "version": "3.7.4"
  },
  "pycharm": {
   "stem_cell": {
    "cell_type": "raw",
    "source": [],
    "metadata": {
     "collapsed": false
    }
   }
  }
 },
 "nbformat": 4,
 "nbformat_minor": 2
}